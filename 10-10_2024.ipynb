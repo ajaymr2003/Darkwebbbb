{
 "cells": [
  {
   "cell_type": "code",
   "execution_count": 1,
   "id": "49cda6fb",
   "metadata": {},
   "outputs": [
    {
     "name": "stdout",
     "output_type": "stream",
     "text": [
      "Enter a word : amruth\n",
      "hmruta\n"
     ]
    }
   ],
   "source": [
    "a= input(\"Enter a word : \")\n",
    "b=a[-1] + a[1:-1]  + a[0]\n",
    "print(b)"
   ]
  },
  {
   "cell_type": "code",
   "execution_count": 2,
   "id": "6febd759",
   "metadata": {},
   "outputs": [
    {
     "name": "stdout",
     "output_type": "stream",
     "text": [
      "Enter 1st  string : hello\n",
      "Enter 2nd string: world\n",
      "wollo herld\n"
     ]
    }
   ],
   "source": [
    "s1= input(\"Enter 1st  string : \")\n",
    "s2= input(\"Enter 2nd string: \")\n",
    "print(s2[0:2]+s1[2:]+\" \"+s1[0:2]+s2[2:])"
   ]
  },
  {
   "cell_type": "code",
   "execution_count": 3,
   "id": "f9311037",
   "metadata": {},
   "outputs": [
    {
     "name": "stdout",
     "output_type": "stream",
     "text": [
      "enter a string :ajay\n",
      "aj$y\n"
     ]
    }
   ],
   "source": [
    "s=input(\"enter a string :\")\n",
    "x=s[0]+s[1:].replace(s[0],\"$\")\n",
    "print(x)"
   ]
  },
  {
   "cell_type": "code",
   "execution_count": 7,
   "id": "fe115db3",
   "metadata": {},
   "outputs": [
    {
     "name": "stdout",
     "output_type": "stream",
     "text": [
      "enter names of colors by putting comma :red,blue,green,orange,yellow\n",
      "first color :  red\n",
      "Last color :  yellow\n"
     ]
    }
   ],
   "source": [
    "a=input(\"Enter names of colors by putting comma :\")\n",
    "b=a.split(',')\n",
    "print(\"first color : \",b[0])\n",
    "print(\"Last color : \",b[-1])"
   ]
  },
  {
   "cell_type": "code",
   "execution_count": 3,
   "id": "5042837f",
   "metadata": {},
   "outputs": [
    {
     "name": "stdout",
     "output_type": "stream",
     "text": [
      "Enter the file nameajay.xls\n",
      "Extention of the file name is: . xls\n"
     ]
    }
   ],
   "source": [
    "f=input(\"Enter the file name\")\n",
    "fn=f.split(\".\")\n",
    "print(\"Extention of the file name is: .\",fn[-1])"
   ]
  },
  {
   "cell_type": "code",
   "execution_count": 14,
   "id": "3825c66a",
   "metadata": {},
   "outputs": [
    {
     "name": "stdout",
     "output_type": "stream",
     "text": [
      "Enter values to the tuple: ajay amruth athulya anjana frina jahana\n",
      "Tuple elements is:  ('ajay', 'amruth', 'athulya', 'anjana', 'frina', 'jahana')\n",
      "Third element athulya\n",
      "third from last anjana\n"
     ]
    }
   ],
   "source": [
    "b=input(\"Enter values to the tuple: \")\n",
    "a=tuple(b.split(\" \"))\n",
    "print(\"Tuple elements is: \",a)\n",
    "print(\"Third element\",a[2])\n",
    "print(\"third from last\",a[-3])      "
   ]
  },
  {
   "cell_type": "code",
   "execution_count": 24,
   "id": "671e79a8",
   "metadata": {},
   "outputs": [
    {
     "name": "stdout",
     "output_type": "stream",
     "text": [
      "Enter 1st  set color : red,blue,green\n",
      "Enter 2nd set color: red,yellow,orange\n",
      "{'blue', 'green'}\n"
     ]
    }
   ],
   "source": [
    "s1= input(\"Enter 1st  set color : \").split(',')\n",
    "s2= input(\"Enter 2nd set color: \").split(',')\n",
    "set1=set(s1)\n",
    "set2=set(s2)\n",
    "s3=set1-set2\n",
    "print(s3)"
   ]
  },
  {
   "cell_type": "code",
   "execution_count": null,
   "id": "4cf14727",
   "metadata": {},
   "outputs": [],
   "source": []
  }
 ],
 "metadata": {
  "kernelspec": {
   "display_name": "Python 3 (ipykernel)",
   "language": "python",
   "name": "python3"
  },
  "language_info": {
   "codemirror_mode": {
    "name": "ipython",
    "version": 3
   },
   "file_extension": ".py",
   "mimetype": "text/x-python",
   "name": "python",
   "nbconvert_exporter": "python",
   "pygments_lexer": "ipython3",
   "version": "3.10.12"
  }
 },
 "nbformat": 4,
 "nbformat_minor": 5
}
